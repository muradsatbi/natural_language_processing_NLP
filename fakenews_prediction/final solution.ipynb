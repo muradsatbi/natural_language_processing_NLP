{
 "cells": [
  {
   "cell_type": "markdown",
   "id": "5edc9108",
   "metadata": {},
   "source": [
    "В первую очередь хочу сказать, что это мой первый опыт обучения любой модели машинного обучения в принципе и первое столкновение с NLP и анализом текста, смотрел несколько видео по табличному машинному обучению"
   ]
  },
  {
   "cell_type": "markdown",
   "id": "c06ef215",
   "metadata": {},
   "source": [
    "Начнем"
   ]
  },
  {
   "cell_type": "markdown",
   "id": "25f0d0d6",
   "metadata": {},
   "source": [
    "Сначала нужно импортировать все необходимые пакеты и модули"
   ]
  },
  {
   "cell_type": "code",
   "execution_count": 1,
   "id": "60d34afd",
   "metadata": {
    "scrolled": true
   },
   "outputs": [
    {
     "name": "stderr",
     "output_type": "stream",
     "text": [
      "[nltk_data] Downloading package stopwords to\n",
      "[nltk_data]     C:\\Users\\Мурад\\AppData\\Roaming\\nltk_data...\n",
      "[nltk_data]   Package stopwords is already up-to-date!\n",
      "[nltk_data] Downloading package wordnet to\n",
      "[nltk_data]     C:\\Users\\Мурад\\AppData\\Roaming\\nltk_data...\n",
      "[nltk_data]   Package wordnet is already up-to-date!\n"
     ]
    }
   ],
   "source": [
    "import pandas as pd\n",
    "import numpy as np\n",
    "import re\n",
    "\n",
    "import nltk\n",
    "nltk.download('stopwords')\n",
    "nltk.download('wordnet')\n",
    "from nltk.corpus import stopwords\n",
    "from nltk.stem import WordNetLemmatizer\n",
    "\n",
    "from sklearn.feature_extraction.text import CountVectorizer, TfidfTransformer\n",
    "\n",
    "from sklearn.linear_model import LogisticRegression\n",
    "from sklearn.naive_bayes import MultinomialNB, BernoulliNB\n",
    "from sklearn.model_selection import cross_val_score"
   ]
  },
  {
   "cell_type": "markdown",
   "id": "f0d4535c",
   "metadata": {},
   "source": [
    "Далее загружаем данные для обучения модели train и для построения предсказаний test"
   ]
  },
  {
   "cell_type": "code",
   "execution_count": 2,
   "id": "a660bfe7",
   "metadata": {},
   "outputs": [],
   "source": [
    "train = pd.read_csv('train.tsv', sep='\\t')\n",
    "test = pd.read_csv('test.tsv', sep='\\t')"
   ]
  },
  {
   "cell_type": "code",
   "execution_count": 3,
   "id": "12b41eea",
   "metadata": {
    "scrolled": true
   },
   "outputs": [
    {
     "data": {
      "text/html": [
       "<div>\n",
       "<style scoped>\n",
       "    .dataframe tbody tr th:only-of-type {\n",
       "        vertical-align: middle;\n",
       "    }\n",
       "\n",
       "    .dataframe tbody tr th {\n",
       "        vertical-align: top;\n",
       "    }\n",
       "\n",
       "    .dataframe thead th {\n",
       "        text-align: right;\n",
       "    }\n",
       "</style>\n",
       "<table border=\"1\" class=\"dataframe\">\n",
       "  <thead>\n",
       "    <tr style=\"text-align: right;\">\n",
       "      <th></th>\n",
       "      <th>title</th>\n",
       "      <th>is_fake</th>\n",
       "    </tr>\n",
       "  </thead>\n",
       "  <tbody>\n",
       "    <tr>\n",
       "      <th>0</th>\n",
       "      <td>Москвичу Владимиру Клутину пришёл счёт за вмеш...</td>\n",
       "      <td>1</td>\n",
       "    </tr>\n",
       "    <tr>\n",
       "      <th>1</th>\n",
       "      <td>Агент Кокорина назвал езду по встречке житейск...</td>\n",
       "      <td>0</td>\n",
       "    </tr>\n",
       "    <tr>\n",
       "      <th>2</th>\n",
       "      <td>Госдума рассмотрит возможность введения секрет...</td>\n",
       "      <td>1</td>\n",
       "    </tr>\n",
       "    <tr>\n",
       "      <th>3</th>\n",
       "      <td>ФАС заблокировала поставку скоростных трамваев...</td>\n",
       "      <td>0</td>\n",
       "    </tr>\n",
       "    <tr>\n",
       "      <th>4</th>\n",
       "      <td>Против Навального завели дело о недоносительст...</td>\n",
       "      <td>1</td>\n",
       "    </tr>\n",
       "  </tbody>\n",
       "</table>\n",
       "</div>"
      ],
      "text/plain": [
       "                                               title  is_fake\n",
       "0  Москвичу Владимиру Клутину пришёл счёт за вмеш...        1\n",
       "1  Агент Кокорина назвал езду по встречке житейск...        0\n",
       "2  Госдума рассмотрит возможность введения секрет...        1\n",
       "3  ФАС заблокировала поставку скоростных трамваев...        0\n",
       "4  Против Навального завели дело о недоносительст...        1"
      ]
     },
     "execution_count": 3,
     "metadata": {},
     "output_type": "execute_result"
    }
   ],
   "source": [
    "train.head()"
   ]
  },
  {
   "cell_type": "code",
   "execution_count": 4,
   "id": "2deb1d30",
   "metadata": {},
   "outputs": [
    {
     "data": {
      "text/html": [
       "<div>\n",
       "<style scoped>\n",
       "    .dataframe tbody tr th:only-of-type {\n",
       "        vertical-align: middle;\n",
       "    }\n",
       "\n",
       "    .dataframe tbody tr th {\n",
       "        vertical-align: top;\n",
       "    }\n",
       "\n",
       "    .dataframe thead th {\n",
       "        text-align: right;\n",
       "    }\n",
       "</style>\n",
       "<table border=\"1\" class=\"dataframe\">\n",
       "  <thead>\n",
       "    <tr style=\"text-align: right;\">\n",
       "      <th></th>\n",
       "      <th>title</th>\n",
       "      <th>is_fake</th>\n",
       "    </tr>\n",
       "  </thead>\n",
       "  <tbody>\n",
       "    <tr>\n",
       "      <th>0</th>\n",
       "      <td>Роскомнадзор представил реестр сочетаний цвето...</td>\n",
       "      <td>0</td>\n",
       "    </tr>\n",
       "    <tr>\n",
       "      <th>1</th>\n",
       "      <td>Ночью под Минском на президентской горе Белара...</td>\n",
       "      <td>0</td>\n",
       "    </tr>\n",
       "    <tr>\n",
       "      <th>2</th>\n",
       "      <td>Бывший спичрайтер Юрия Лозы рассказал о трудно...</td>\n",
       "      <td>0</td>\n",
       "    </tr>\n",
       "    <tr>\n",
       "      <th>3</th>\n",
       "      <td>Сельская церковь, собравшая рекордно низкое ко...</td>\n",
       "      <td>0</td>\n",
       "    </tr>\n",
       "    <tr>\n",
       "      <th>4</th>\n",
       "      <td>Акции Google рухнули после объявления о переза...</td>\n",
       "      <td>0</td>\n",
       "    </tr>\n",
       "  </tbody>\n",
       "</table>\n",
       "</div>"
      ],
      "text/plain": [
       "                                               title  is_fake\n",
       "0  Роскомнадзор представил реестр сочетаний цвето...        0\n",
       "1  Ночью под Минском на президентской горе Белара...        0\n",
       "2  Бывший спичрайтер Юрия Лозы рассказал о трудно...        0\n",
       "3  Сельская церковь, собравшая рекордно низкое ко...        0\n",
       "4  Акции Google рухнули после объявления о переза...        0"
      ]
     },
     "execution_count": 4,
     "metadata": {},
     "output_type": "execute_result"
    }
   ],
   "source": [
    "test.head()"
   ]
  },
  {
   "cell_type": "markdown",
   "id": "aee80e04",
   "metadata": {},
   "source": [
    "Определим переменные"
   ]
  },
  {
   "cell_type": "code",
   "execution_count": 5,
   "id": "cb2596f2",
   "metadata": {},
   "outputs": [],
   "source": [
    "X_train_init = train.title\n",
    "y_train = train.is_fake\n",
    "X_test_init = test.title"
   ]
  },
  {
   "cell_type": "code",
   "execution_count": 6,
   "id": "c9086783",
   "metadata": {},
   "outputs": [
    {
     "data": {
      "text/plain": [
       "0       Москвичу Владимиру Клутину пришёл счёт за вмеш...\n",
       "1       Агент Кокорина назвал езду по встречке житейск...\n",
       "2       Госдума рассмотрит возможность введения секрет...\n",
       "3       ФАС заблокировала поставку скоростных трамваев...\n",
       "4       Против Навального завели дело о недоносительст...\n",
       "                              ...                        \n",
       "5753    Эдди Чемберс получил сотрясение мозга в бою с ...\n",
       "5754    Правительство застроит Россию нефтепродуктопро...\n",
       "5755    «Мне стыдно перед дедом»: новый канцлер ФРГ об...\n",
       "5756     Туркмения в декабре начнет поставки газа в Китай\n",
       "5757    Бывший тренер Локомотива возглавил нальчикский...\n",
       "Name: title, Length: 5758, dtype: object"
      ]
     },
     "execution_count": 6,
     "metadata": {},
     "output_type": "execute_result"
    }
   ],
   "source": [
    "X_train_init"
   ]
  },
  {
   "cell_type": "markdown",
   "id": "9db17f8d",
   "metadata": {},
   "source": [
    "Теперь нужно провести предобработку и убрать все множественные пробелы, единичные символы, все специальные символы, также привести все к нижнему регистру, и, наконец, постараться максимально привести к единой форме одни и те же слова, но стоящие в разных формах"
   ]
  },
  {
   "cell_type": "code",
   "execution_count": 7,
   "id": "3870ca71",
   "metadata": {},
   "outputs": [],
   "source": [
    "documents = []\n",
    "\n",
    "stemmer = WordNetLemmatizer()\n",
    "\n",
    "for sen in range(0, len(X_train_init)):\n",
    "    document = re.sub(r'\\W', ' ', str(X_train_init[sen]))\n",
    "    \n",
    "    document = re.sub(r'\\s+[a-zA-Z]\\s+', ' ', document)\n",
    "    \n",
    "    document = re.sub(r'\\^[a-zA-Z]\\s+', ' ', document) \n",
    "    \n",
    "    document = re.sub(r'\\s+', ' ', document, flags=re.I)\n",
    "    \n",
    "    document = document.lower()\n",
    "    \n",
    "    document = document.split()\n",
    "\n",
    "    document = [stemmer.lemmatize(word) for word in document]\n",
    "    document = ' '.join(document).strip()\n",
    "    \n",
    "    documents.append(document)"
   ]
  },
  {
   "cell_type": "markdown",
   "id": "784e3cdb",
   "metadata": {},
   "source": [
    "Также проверил варианты без предобработки, варианты с стеммингом через Snowball и Porterstemmer"
   ]
  },
  {
   "cell_type": "markdown",
   "id": "74c44013",
   "metadata": {},
   "source": [
    "Далее нужно превратить набор слов и предложений в какую-то \"измеряемую\" форму. \n",
    "\n",
    "Начнем с того, что сделаем просто мешок слов при помощи CountVectorizer"
   ]
  },
  {
   "cell_type": "code",
   "execution_count": 8,
   "id": "bfbf27b2",
   "metadata": {},
   "outputs": [],
   "source": [
    "vectorizer_train = CountVectorizer(max_features=90000, min_df=0, max_df=0.55,\n",
    "ngram_range=(1,6), analyzer='char_wb')\n",
    "X_train = vectorizer_train.fit_transform(documents)"
   ]
  },
  {
   "cell_type": "code",
   "execution_count": 9,
   "id": "6138ed44",
   "metadata": {},
   "outputs": [
    {
     "data": {
      "text/plain": [
       "<5758x90000 sparse matrix of type '<class 'numpy.int64'>'\n",
       "\twith 1287427 stored elements in Compressed Sparse Row format>"
      ]
     },
     "execution_count": 9,
     "metadata": {},
     "output_type": "execute_result"
    }
   ],
   "source": [
    "X_train"
   ]
  },
  {
   "cell_type": "markdown",
   "id": "da90e6de",
   "metadata": {},
   "source": [
    "Также я проверил, как влияют стоп-слова русского и английского языка и вместе. Скоры были ниже"
   ]
  },
  {
   "cell_type": "markdown",
   "id": "4ebba588",
   "metadata": {},
   "source": [
    "Сразу скажу, что фичи подобраны опытным путем вручную."
   ]
  },
  {
   "cell_type": "markdown",
   "id": "b886685f",
   "metadata": {},
   "source": [
    "Я хотел использовать пайплайны и гридсерч, но это занимало страшно много времени. На попытки я потратиk в сумме около 8 часов только обучения помимо того, что писал код. Половину на своем ноуте, а затем уже на Colab"
   ]
  },
  {
   "cell_type": "markdown",
   "id": "53ee19d9",
   "metadata": {},
   "source": [
    "Модели я проверял на просто мешке слов тоже, скоры ниже"
   ]
  },
  {
   "cell_type": "markdown",
   "id": "dd995878",
   "metadata": {},
   "source": [
    "Далее переведем мешок слов в вид TF IDF c помощью TfidfTransformer(). Также пробовал TfidfVectorizer(), но он показал результаты хуже"
   ]
  },
  {
   "cell_type": "code",
   "execution_count": 10,
   "id": "6223e221",
   "metadata": {},
   "outputs": [],
   "source": [
    "tfidfconverter = TfidfTransformer()\n",
    "X_train = tfidfconverter.fit_transform(X_train)"
   ]
  },
  {
   "cell_type": "code",
   "execution_count": 11,
   "id": "70446d9f",
   "metadata": {},
   "outputs": [
    {
     "data": {
      "text/plain": [
       "<5758x90000 sparse matrix of type '<class 'numpy.float64'>'\n",
       "\twith 1287427 stored elements in Compressed Sparse Row format>"
      ]
     },
     "execution_count": 11,
     "metadata": {},
     "output_type": "execute_result"
    }
   ],
   "source": [
    "X_train"
   ]
  },
  {
   "cell_type": "markdown",
   "id": "63c4a569",
   "metadata": {},
   "source": [
    "Все, данные теперь готовы. Могло быть лучше, конечно, и я даже знаю, в чем (пробелы после слов в мешке слов), но время поджимало"
   ]
  },
  {
   "cell_type": "markdown",
   "id": "93296024",
   "metadata": {},
   "source": [
    "Переходим к выбору модели обучения"
   ]
  },
  {
   "cell_type": "markdown",
   "id": "23dcc879",
   "metadata": {},
   "source": [
    "Скажем так, перед выходом в финал были протестированы и RandomForest, и SGDClassifier, и другие Байесовы классификаторы"
   ]
  },
  {
   "cell_type": "markdown",
   "id": "2cb21cfb",
   "metadata": {},
   "source": [
    "По итогу лучше скоры показали BernoulliNB, MultinomialNB и LogisticRegression"
   ]
  },
  {
   "cell_type": "markdown",
   "id": "2621f470",
   "metadata": {},
   "source": [
    "Начнем с логистической регрессии. Фичи подобраны опытным путем. Как говорил, хотел через пайплайн и гридсерч, но очень много времени ушло"
   ]
  },
  {
   "cell_type": "code",
   "execution_count": 12,
   "id": "83950ef2",
   "metadata": {},
   "outputs": [],
   "source": [
    "log_reg = LogisticRegression(penalty='none')"
   ]
  },
  {
   "cell_type": "code",
   "execution_count": 13,
   "id": "f2ef8b6f",
   "metadata": {},
   "outputs": [
    {
     "data": {
      "text/plain": [
       "LogisticRegression(penalty='none')"
      ]
     },
     "execution_count": 13,
     "metadata": {},
     "output_type": "execute_result"
    }
   ],
   "source": [
    "log_reg"
   ]
  },
  {
   "cell_type": "markdown",
   "id": "3096bc9b",
   "metadata": {},
   "source": [
    "Теперь посчитаем скор на кросс-валидации, чтобы избежать погрешности переобучения."
   ]
  },
  {
   "cell_type": "markdown",
   "id": "9b2d7d52",
   "metadata": {},
   "source": [
    "Размеры train сета и test ~ 7:1, поэтому на кросс-валидации возьмем 8 частей"
   ]
  },
  {
   "cell_type": "code",
   "execution_count": 14,
   "id": "25286f36",
   "metadata": {
    "scrolled": true
   },
   "outputs": [
    {
     "data": {
      "text/plain": [
       "6.758"
      ]
     },
     "execution_count": 14,
     "metadata": {},
     "output_type": "execute_result"
    }
   ],
   "source": [
    "(train.shape[0] + test.shape[0]) / test.shape[0]"
   ]
  },
  {
   "cell_type": "markdown",
   "id": "3af45d7c",
   "metadata": {},
   "source": [
    "Также важно проставить scoring='f1', так как мы работаем на его увеличение, ну и включить все мощности тоже не помешает"
   ]
  },
  {
   "cell_type": "code",
   "execution_count": 15,
   "id": "709afc95",
   "metadata": {},
   "outputs": [
    {
     "data": {
      "text/plain": [
       "0.8743198330986877"
      ]
     },
     "execution_count": 15,
     "metadata": {},
     "output_type": "execute_result"
    }
   ],
   "source": [
    "cross_val_score(log_reg, X_train, y_train, cv=8, scoring='f1', n_jobs=-1).mean()"
   ]
  },
  {
   "cell_type": "markdown",
   "id": "14ea01d6",
   "metadata": {},
   "source": [
    "Теперь разберем наивный байес"
   ]
  },
  {
   "cell_type": "markdown",
   "id": "288a212c",
   "metadata": {},
   "source": [
    "Для него входные фичи для мешка слов и тф идф немного другие"
   ]
  },
  {
   "cell_type": "code",
   "execution_count": 16,
   "id": "75bca364",
   "metadata": {},
   "outputs": [],
   "source": [
    "vectorizer_train = CountVectorizer(max_features=74000, min_df=0, max_df=0.9,\n",
    "ngram_range=(1,6), analyzer='char_wb')\n",
    "X_train = vectorizer_train.fit_transform(documents)"
   ]
  },
  {
   "cell_type": "code",
   "execution_count": 17,
   "id": "acbb4ac6",
   "metadata": {},
   "outputs": [],
   "source": [
    "tfidfconverter = TfidfTransformer()\n",
    "X_train = tfidfconverter.fit_transform(X_train)"
   ]
  },
  {
   "cell_type": "code",
   "execution_count": 18,
   "id": "23fb1407",
   "metadata": {},
   "outputs": [],
   "source": [
    "mnNB = MultinomialNB(alpha=0.09)"
   ]
  },
  {
   "cell_type": "code",
   "execution_count": 19,
   "id": "b512bde8",
   "metadata": {},
   "outputs": [
    {
     "data": {
      "text/plain": [
       "0.8610630519978264"
      ]
     },
     "execution_count": 19,
     "metadata": {},
     "output_type": "execute_result"
    }
   ],
   "source": [
    "cross_val_score(mnNB, X_train, y_train, cv=8, scoring='f1', n_jobs=-1).mean()"
   ]
  },
  {
   "cell_type": "markdown",
   "id": "ab145d52",
   "metadata": {},
   "source": [
    "Ну и наконец, наивный байес Бернулли"
   ]
  },
  {
   "cell_type": "code",
   "execution_count": 20,
   "id": "91b48bf1",
   "metadata": {},
   "outputs": [],
   "source": [
    "bNB = BernoulliNB(alpha=0.09)"
   ]
  },
  {
   "cell_type": "code",
   "execution_count": 21,
   "id": "c8db23ea",
   "metadata": {},
   "outputs": [
    {
     "data": {
      "text/plain": [
       "0.8836120922161603"
      ]
     },
     "execution_count": 21,
     "metadata": {},
     "output_type": "execute_result"
    }
   ],
   "source": [
    "cross_val_score(bNB, X_train, y_train, cv=8, scoring='f1', n_jobs=-1).mean()"
   ]
  },
  {
   "cell_type": "markdown",
   "id": "c80629d6",
   "metadata": {},
   "source": [
    "Как видим, на кросс-валидации лучший результат показал BernoulliNB - 0.8836, затем LogisticRegression - 0.8743 и затем уже MultinomialNB - 0.8610"
   ]
  },
  {
   "cell_type": "markdown",
   "id": "7dbc91e1",
   "metadata": {},
   "source": [
    "Теперь надо подготовить тестовый датасет"
   ]
  },
  {
   "cell_type": "code",
   "execution_count": 22,
   "id": "4fdc0749",
   "metadata": {},
   "outputs": [],
   "source": [
    "documents_test = []\n",
    "\n",
    "stemmer = WordNetLemmatizer()\n",
    "\n",
    "for sen in range(0, len(X_test_init)):\n",
    "    document = re.sub(r'\\W', ' ', str(X_test_init[sen]))\n",
    "    \n",
    "    document = re.sub(r'\\s+[a-zA-Z]\\s+', ' ', document)\n",
    "    \n",
    "    document = re.sub(r'\\^[a-zA-Z]\\s+', ' ', document) \n",
    "    \n",
    "    document = re.sub(r'\\s+', ' ', document, flags=re.I)\n",
    "    \n",
    "    document = document.lower()\n",
    "    \n",
    "    document = document.split()\n",
    "\n",
    "    document = [stemmer.lemmatize(word) for word in document]\n",
    "    document = ' '.join(document)\n",
    "    \n",
    "    documents_test.append(document)"
   ]
  },
  {
   "cell_type": "code",
   "execution_count": 23,
   "id": "513798f3",
   "metadata": {},
   "outputs": [],
   "source": [
    "X_test = vectorizer_train.transform(documents_test)"
   ]
  },
  {
   "cell_type": "code",
   "execution_count": 24,
   "id": "01c3ccd8",
   "metadata": {},
   "outputs": [],
   "source": [
    "X_test = tfidfconverter.fit_transform(X_test)"
   ]
  },
  {
   "cell_type": "markdown",
   "id": "fc9e6abe",
   "metadata": {},
   "source": [
    "Теперь перейдем к обучнению моделей"
   ]
  },
  {
   "cell_type": "code",
   "execution_count": 25,
   "id": "a26544d8",
   "metadata": {},
   "outputs": [
    {
     "data": {
      "text/plain": [
       "LogisticRegression(penalty='none')"
      ]
     },
     "execution_count": 25,
     "metadata": {},
     "output_type": "execute_result"
    }
   ],
   "source": [
    "log_reg.fit(X_train, y_train)"
   ]
  },
  {
   "cell_type": "code",
   "execution_count": 26,
   "id": "14c1f4d7",
   "metadata": {},
   "outputs": [
    {
     "data": {
      "text/plain": [
       "MultinomialNB(alpha=0.09)"
      ]
     },
     "execution_count": 26,
     "metadata": {},
     "output_type": "execute_result"
    }
   ],
   "source": [
    "mnNB.fit(X_train, y_train)"
   ]
  },
  {
   "cell_type": "code",
   "execution_count": 27,
   "id": "9495f987",
   "metadata": {
    "scrolled": true
   },
   "outputs": [
    {
     "data": {
      "text/plain": [
       "BernoulliNB(alpha=0.09)"
      ]
     },
     "execution_count": 27,
     "metadata": {},
     "output_type": "execute_result"
    }
   ],
   "source": [
    "bNB.fit(X_train, y_train)"
   ]
  },
  {
   "cell_type": "markdown",
   "id": "4b659deb",
   "metadata": {},
   "source": [
    "сведем все предсказания всех трех моделей в одну таблицу"
   ]
  },
  {
   "cell_type": "code",
   "execution_count": 28,
   "id": "9d80e5ad",
   "metadata": {},
   "outputs": [],
   "source": [
    "final = test.merge(pd.DataFrame(pd.Series(bNB.predict(X_test))), left_index=True, right_index=True) \\\n",
    ".rename(columns={'is_fake':'none', 0:'bernoulli'}).loc[:, ['title', 'bernoulli']]"
   ]
  },
  {
   "cell_type": "code",
   "execution_count": 29,
   "id": "f5748a6b",
   "metadata": {},
   "outputs": [
    {
     "data": {
      "text/html": [
       "<div>\n",
       "<style scoped>\n",
       "    .dataframe tbody tr th:only-of-type {\n",
       "        vertical-align: middle;\n",
       "    }\n",
       "\n",
       "    .dataframe tbody tr th {\n",
       "        vertical-align: top;\n",
       "    }\n",
       "\n",
       "    .dataframe thead th {\n",
       "        text-align: right;\n",
       "    }\n",
       "</style>\n",
       "<table border=\"1\" class=\"dataframe\">\n",
       "  <thead>\n",
       "    <tr style=\"text-align: right;\">\n",
       "      <th></th>\n",
       "      <th>title</th>\n",
       "      <th>bernoulli</th>\n",
       "    </tr>\n",
       "  </thead>\n",
       "  <tbody>\n",
       "    <tr>\n",
       "      <th>0</th>\n",
       "      <td>Роскомнадзор представил реестр сочетаний цвето...</td>\n",
       "      <td>1</td>\n",
       "    </tr>\n",
       "    <tr>\n",
       "      <th>1</th>\n",
       "      <td>Ночью под Минском на президентской горе Белара...</td>\n",
       "      <td>1</td>\n",
       "    </tr>\n",
       "    <tr>\n",
       "      <th>2</th>\n",
       "      <td>Бывший спичрайтер Юрия Лозы рассказал о трудно...</td>\n",
       "      <td>1</td>\n",
       "    </tr>\n",
       "    <tr>\n",
       "      <th>3</th>\n",
       "      <td>Сельская церковь, собравшая рекордно низкое ко...</td>\n",
       "      <td>1</td>\n",
       "    </tr>\n",
       "    <tr>\n",
       "      <th>4</th>\n",
       "      <td>Акции Google рухнули после объявления о переза...</td>\n",
       "      <td>1</td>\n",
       "    </tr>\n",
       "  </tbody>\n",
       "</table>\n",
       "</div>"
      ],
      "text/plain": [
       "                                               title  bernoulli\n",
       "0  Роскомнадзор представил реестр сочетаний цвето...          1\n",
       "1  Ночью под Минском на президентской горе Белара...          1\n",
       "2  Бывший спичрайтер Юрия Лозы рассказал о трудно...          1\n",
       "3  Сельская церковь, собравшая рекордно низкое ко...          1\n",
       "4  Акции Google рухнули после объявления о переза...          1"
      ]
     },
     "execution_count": 29,
     "metadata": {},
     "output_type": "execute_result"
    }
   ],
   "source": [
    "final.head()"
   ]
  },
  {
   "cell_type": "code",
   "execution_count": 30,
   "id": "073b4377",
   "metadata": {},
   "outputs": [],
   "source": [
    "final = final.merge(pd.DataFrame(pd.Series(log_reg.predict(X_test))), left_index=True, \\\n",
    "right_index=True).rename(columns={0:'log_reg'})"
   ]
  },
  {
   "cell_type": "code",
   "execution_count": 31,
   "id": "49c84d6c",
   "metadata": {},
   "outputs": [
    {
     "data": {
      "text/html": [
       "<div>\n",
       "<style scoped>\n",
       "    .dataframe tbody tr th:only-of-type {\n",
       "        vertical-align: middle;\n",
       "    }\n",
       "\n",
       "    .dataframe tbody tr th {\n",
       "        vertical-align: top;\n",
       "    }\n",
       "\n",
       "    .dataframe thead th {\n",
       "        text-align: right;\n",
       "    }\n",
       "</style>\n",
       "<table border=\"1\" class=\"dataframe\">\n",
       "  <thead>\n",
       "    <tr style=\"text-align: right;\">\n",
       "      <th></th>\n",
       "      <th>title</th>\n",
       "      <th>bernoulli</th>\n",
       "      <th>log_reg</th>\n",
       "    </tr>\n",
       "  </thead>\n",
       "  <tbody>\n",
       "    <tr>\n",
       "      <th>0</th>\n",
       "      <td>Роскомнадзор представил реестр сочетаний цвето...</td>\n",
       "      <td>1</td>\n",
       "      <td>1</td>\n",
       "    </tr>\n",
       "    <tr>\n",
       "      <th>1</th>\n",
       "      <td>Ночью под Минском на президентской горе Белара...</td>\n",
       "      <td>1</td>\n",
       "      <td>1</td>\n",
       "    </tr>\n",
       "    <tr>\n",
       "      <th>2</th>\n",
       "      <td>Бывший спичрайтер Юрия Лозы рассказал о трудно...</td>\n",
       "      <td>1</td>\n",
       "      <td>1</td>\n",
       "    </tr>\n",
       "    <tr>\n",
       "      <th>3</th>\n",
       "      <td>Сельская церковь, собравшая рекордно низкое ко...</td>\n",
       "      <td>1</td>\n",
       "      <td>1</td>\n",
       "    </tr>\n",
       "    <tr>\n",
       "      <th>4</th>\n",
       "      <td>Акции Google рухнули после объявления о переза...</td>\n",
       "      <td>1</td>\n",
       "      <td>1</td>\n",
       "    </tr>\n",
       "  </tbody>\n",
       "</table>\n",
       "</div>"
      ],
      "text/plain": [
       "                                               title  bernoulli  log_reg\n",
       "0  Роскомнадзор представил реестр сочетаний цвето...          1        1\n",
       "1  Ночью под Минском на президентской горе Белара...          1        1\n",
       "2  Бывший спичрайтер Юрия Лозы рассказал о трудно...          1        1\n",
       "3  Сельская церковь, собравшая рекордно низкое ко...          1        1\n",
       "4  Акции Google рухнули после объявления о переза...          1        1"
      ]
     },
     "execution_count": 31,
     "metadata": {},
     "output_type": "execute_result"
    }
   ],
   "source": [
    "final.head(5)"
   ]
  },
  {
   "cell_type": "code",
   "execution_count": 32,
   "id": "35caaeee",
   "metadata": {},
   "outputs": [],
   "source": [
    "final = final.merge(pd.DataFrame(pd.Series(mnNB.predict(X_test))), left_index=True, \\\n",
    "right_index=True).rename(columns={0:'mnNB'})"
   ]
  },
  {
   "cell_type": "code",
   "execution_count": 33,
   "id": "ddf3202f",
   "metadata": {},
   "outputs": [
    {
     "data": {
      "text/html": [
       "<div>\n",
       "<style scoped>\n",
       "    .dataframe tbody tr th:only-of-type {\n",
       "        vertical-align: middle;\n",
       "    }\n",
       "\n",
       "    .dataframe tbody tr th {\n",
       "        vertical-align: top;\n",
       "    }\n",
       "\n",
       "    .dataframe thead th {\n",
       "        text-align: right;\n",
       "    }\n",
       "</style>\n",
       "<table border=\"1\" class=\"dataframe\">\n",
       "  <thead>\n",
       "    <tr style=\"text-align: right;\">\n",
       "      <th></th>\n",
       "      <th>title</th>\n",
       "      <th>bernoulli</th>\n",
       "      <th>log_reg</th>\n",
       "      <th>mnNB</th>\n",
       "    </tr>\n",
       "  </thead>\n",
       "  <tbody>\n",
       "    <tr>\n",
       "      <th>0</th>\n",
       "      <td>Роскомнадзор представил реестр сочетаний цвето...</td>\n",
       "      <td>1</td>\n",
       "      <td>1</td>\n",
       "      <td>1</td>\n",
       "    </tr>\n",
       "    <tr>\n",
       "      <th>1</th>\n",
       "      <td>Ночью под Минском на президентской горе Белара...</td>\n",
       "      <td>1</td>\n",
       "      <td>1</td>\n",
       "      <td>1</td>\n",
       "    </tr>\n",
       "    <tr>\n",
       "      <th>2</th>\n",
       "      <td>Бывший спичрайтер Юрия Лозы рассказал о трудно...</td>\n",
       "      <td>1</td>\n",
       "      <td>1</td>\n",
       "      <td>1</td>\n",
       "    </tr>\n",
       "    <tr>\n",
       "      <th>3</th>\n",
       "      <td>Сельская церковь, собравшая рекордно низкое ко...</td>\n",
       "      <td>1</td>\n",
       "      <td>1</td>\n",
       "      <td>1</td>\n",
       "    </tr>\n",
       "    <tr>\n",
       "      <th>4</th>\n",
       "      <td>Акции Google рухнули после объявления о переза...</td>\n",
       "      <td>1</td>\n",
       "      <td>1</td>\n",
       "      <td>1</td>\n",
       "    </tr>\n",
       "  </tbody>\n",
       "</table>\n",
       "</div>"
      ],
      "text/plain": [
       "                                               title  bernoulli  log_reg  mnNB\n",
       "0  Роскомнадзор представил реестр сочетаний цвето...          1        1     1\n",
       "1  Ночью под Минском на президентской горе Белара...          1        1     1\n",
       "2  Бывший спичрайтер Юрия Лозы рассказал о трудно...          1        1     1\n",
       "3  Сельская церковь, собравшая рекордно низкое ко...          1        1     1\n",
       "4  Акции Google рухнули после объявления о переза...          1        1     1"
      ]
     },
     "execution_count": 33,
     "metadata": {},
     "output_type": "execute_result"
    }
   ],
   "source": [
    "final.head(5)"
   ]
  },
  {
   "cell_type": "markdown",
   "id": "543a1b88",
   "metadata": {},
   "source": [
    "После я подумал, как ведут эти три модели с каждой новостью"
   ]
  },
  {
   "cell_type": "code",
   "execution_count": 34,
   "id": "a50680da",
   "metadata": {},
   "outputs": [],
   "source": [
    "final['common'] = final.bernoulli + final.log_reg + final.mnNB"
   ]
  },
  {
   "cell_type": "code",
   "execution_count": 35,
   "id": "262218f5",
   "metadata": {},
   "outputs": [
    {
     "data": {
      "text/html": [
       "<div>\n",
       "<style scoped>\n",
       "    .dataframe tbody tr th:only-of-type {\n",
       "        vertical-align: middle;\n",
       "    }\n",
       "\n",
       "    .dataframe tbody tr th {\n",
       "        vertical-align: top;\n",
       "    }\n",
       "\n",
       "    .dataframe thead th {\n",
       "        text-align: right;\n",
       "    }\n",
       "</style>\n",
       "<table border=\"1\" class=\"dataframe\">\n",
       "  <thead>\n",
       "    <tr style=\"text-align: right;\">\n",
       "      <th></th>\n",
       "      <th>title</th>\n",
       "      <th>bernoulli</th>\n",
       "      <th>log_reg</th>\n",
       "      <th>mnNB</th>\n",
       "      <th>common</th>\n",
       "    </tr>\n",
       "  </thead>\n",
       "  <tbody>\n",
       "    <tr>\n",
       "      <th>0</th>\n",
       "      <td>Роскомнадзор представил реестр сочетаний цвето...</td>\n",
       "      <td>1</td>\n",
       "      <td>1</td>\n",
       "      <td>1</td>\n",
       "      <td>3</td>\n",
       "    </tr>\n",
       "    <tr>\n",
       "      <th>1</th>\n",
       "      <td>Ночью под Минском на президентской горе Белара...</td>\n",
       "      <td>1</td>\n",
       "      <td>1</td>\n",
       "      <td>1</td>\n",
       "      <td>3</td>\n",
       "    </tr>\n",
       "    <tr>\n",
       "      <th>2</th>\n",
       "      <td>Бывший спичрайтер Юрия Лозы рассказал о трудно...</td>\n",
       "      <td>1</td>\n",
       "      <td>1</td>\n",
       "      <td>1</td>\n",
       "      <td>3</td>\n",
       "    </tr>\n",
       "    <tr>\n",
       "      <th>3</th>\n",
       "      <td>Сельская церковь, собравшая рекордно низкое ко...</td>\n",
       "      <td>1</td>\n",
       "      <td>1</td>\n",
       "      <td>1</td>\n",
       "      <td>3</td>\n",
       "    </tr>\n",
       "    <tr>\n",
       "      <th>4</th>\n",
       "      <td>Акции Google рухнули после объявления о переза...</td>\n",
       "      <td>1</td>\n",
       "      <td>1</td>\n",
       "      <td>1</td>\n",
       "      <td>3</td>\n",
       "    </tr>\n",
       "    <tr>\n",
       "      <th>...</th>\n",
       "      <td>...</td>\n",
       "      <td>...</td>\n",
       "      <td>...</td>\n",
       "      <td>...</td>\n",
       "      <td>...</td>\n",
       "    </tr>\n",
       "    <tr>\n",
       "      <th>990</th>\n",
       "      <td>Валентина Терешкова предложила сделать Рассказ...</td>\n",
       "      <td>1</td>\n",
       "      <td>1</td>\n",
       "      <td>1</td>\n",
       "      <td>3</td>\n",
       "    </tr>\n",
       "    <tr>\n",
       "      <th>992</th>\n",
       "      <td>Россиян планируют перевести на шестидневную ра...</td>\n",
       "      <td>1</td>\n",
       "      <td>1</td>\n",
       "      <td>1</td>\n",
       "      <td>3</td>\n",
       "    </tr>\n",
       "    <tr>\n",
       "      <th>996</th>\n",
       "      <td>В День Победы стратегические ракетоносцы Ту-16...</td>\n",
       "      <td>1</td>\n",
       "      <td>1</td>\n",
       "      <td>1</td>\n",
       "      <td>3</td>\n",
       "    </tr>\n",
       "    <tr>\n",
       "      <th>997</th>\n",
       "      <td>СК возбудил дело против авиакомпании «Победа» ...</td>\n",
       "      <td>1</td>\n",
       "      <td>1</td>\n",
       "      <td>1</td>\n",
       "      <td>3</td>\n",
       "    </tr>\n",
       "    <tr>\n",
       "      <th>998</th>\n",
       "      <td>Криптомонетный двор Туркменистана выпустил юби...</td>\n",
       "      <td>1</td>\n",
       "      <td>1</td>\n",
       "      <td>1</td>\n",
       "      <td>3</td>\n",
       "    </tr>\n",
       "  </tbody>\n",
       "</table>\n",
       "<p>462 rows × 5 columns</p>\n",
       "</div>"
      ],
      "text/plain": [
       "                                                 title  bernoulli  log_reg  \\\n",
       "0    Роскомнадзор представил реестр сочетаний цвето...          1        1   \n",
       "1    Ночью под Минском на президентской горе Белара...          1        1   \n",
       "2    Бывший спичрайтер Юрия Лозы рассказал о трудно...          1        1   \n",
       "3    Сельская церковь, собравшая рекордно низкое ко...          1        1   \n",
       "4    Акции Google рухнули после объявления о переза...          1        1   \n",
       "..                                                 ...        ...      ...   \n",
       "990  Валентина Терешкова предложила сделать Рассказ...          1        1   \n",
       "992  Россиян планируют перевести на шестидневную ра...          1        1   \n",
       "996  В День Победы стратегические ракетоносцы Ту-16...          1        1   \n",
       "997  СК возбудил дело против авиакомпании «Победа» ...          1        1   \n",
       "998  Криптомонетный двор Туркменистана выпустил юби...          1        1   \n",
       "\n",
       "     mnNB  common  \n",
       "0       1       3  \n",
       "1       1       3  \n",
       "2       1       3  \n",
       "3       1       3  \n",
       "4       1       3  \n",
       "..    ...     ...  \n",
       "990     1       3  \n",
       "992     1       3  \n",
       "996     1       3  \n",
       "997     1       3  \n",
       "998     1       3  \n",
       "\n",
       "[462 rows x 5 columns]"
      ]
     },
     "execution_count": 35,
     "metadata": {},
     "output_type": "execute_result"
    }
   ],
   "source": [
    "final[final.common == 3]"
   ]
  },
  {
   "cell_type": "markdown",
   "id": "af5d133c",
   "metadata": {},
   "source": [
    "462 новости все три модели определили как фейк"
   ]
  },
  {
   "cell_type": "code",
   "execution_count": 36,
   "id": "2ab16ab2",
   "metadata": {},
   "outputs": [
    {
     "data": {
      "text/html": [
       "<div>\n",
       "<style scoped>\n",
       "    .dataframe tbody tr th:only-of-type {\n",
       "        vertical-align: middle;\n",
       "    }\n",
       "\n",
       "    .dataframe tbody tr th {\n",
       "        vertical-align: top;\n",
       "    }\n",
       "\n",
       "    .dataframe thead th {\n",
       "        text-align: right;\n",
       "    }\n",
       "</style>\n",
       "<table border=\"1\" class=\"dataframe\">\n",
       "  <thead>\n",
       "    <tr style=\"text-align: right;\">\n",
       "      <th></th>\n",
       "      <th>title</th>\n",
       "      <th>bernoulli</th>\n",
       "      <th>log_reg</th>\n",
       "      <th>mnNB</th>\n",
       "      <th>common</th>\n",
       "    </tr>\n",
       "  </thead>\n",
       "  <tbody>\n",
       "    <tr>\n",
       "      <th>5</th>\n",
       "      <td>Курс доллара вырос до исторического максимума</td>\n",
       "      <td>0</td>\n",
       "      <td>0</td>\n",
       "      <td>0</td>\n",
       "      <td>0</td>\n",
       "    </tr>\n",
       "    <tr>\n",
       "      <th>6</th>\n",
       "      <td>ОПЕК назвала оптимальный уровень цен на нефть</td>\n",
       "      <td>0</td>\n",
       "      <td>0</td>\n",
       "      <td>0</td>\n",
       "      <td>0</td>\n",
       "    </tr>\n",
       "    <tr>\n",
       "      <th>7</th>\n",
       "      <td>Российская авиакомпания откроет рейсы в Тбилис...</td>\n",
       "      <td>0</td>\n",
       "      <td>0</td>\n",
       "      <td>0</td>\n",
       "      <td>0</td>\n",
       "    </tr>\n",
       "    <tr>\n",
       "      <th>9</th>\n",
       "      <td>Учреждена театральная премия имени Гарольда Пи...</td>\n",
       "      <td>0</td>\n",
       "      <td>0</td>\n",
       "      <td>0</td>\n",
       "      <td>0</td>\n",
       "    </tr>\n",
       "    <tr>\n",
       "      <th>10</th>\n",
       "      <td>Песков опроверг информацию о слиянии Минфина и...</td>\n",
       "      <td>0</td>\n",
       "      <td>0</td>\n",
       "      <td>0</td>\n",
       "      <td>0</td>\n",
       "    </tr>\n",
       "    <tr>\n",
       "      <th>...</th>\n",
       "      <td>...</td>\n",
       "      <td>...</td>\n",
       "      <td>...</td>\n",
       "      <td>...</td>\n",
       "      <td>...</td>\n",
       "    </tr>\n",
       "    <tr>\n",
       "      <th>987</th>\n",
       "      <td>Сафин выходит в третий круг после травмы сопер...</td>\n",
       "      <td>0</td>\n",
       "      <td>0</td>\n",
       "      <td>0</td>\n",
       "      <td>0</td>\n",
       "    </tr>\n",
       "    <tr>\n",
       "      <th>988</th>\n",
       "      <td>Центробанк отозвал лицензии у двух московских ...</td>\n",
       "      <td>0</td>\n",
       "      <td>0</td>\n",
       "      <td>0</td>\n",
       "      <td>0</td>\n",
       "    </tr>\n",
       "    <tr>\n",
       "      <th>989</th>\n",
       "      <td>Россия и Венесуэла договорились о сотрудничест...</td>\n",
       "      <td>0</td>\n",
       "      <td>0</td>\n",
       "      <td>0</td>\n",
       "      <td>0</td>\n",
       "    </tr>\n",
       "    <tr>\n",
       "      <th>991</th>\n",
       "      <td>Бывшему гендиректору Google подняли зарплату в...</td>\n",
       "      <td>0</td>\n",
       "      <td>0</td>\n",
       "      <td>0</td>\n",
       "      <td>0</td>\n",
       "    </tr>\n",
       "    <tr>\n",
       "      <th>993</th>\n",
       "      <td>Кубок УЕФА: испанцы забили немцам три пенальти...</td>\n",
       "      <td>0</td>\n",
       "      <td>0</td>\n",
       "      <td>0</td>\n",
       "      <td>0</td>\n",
       "    </tr>\n",
       "  </tbody>\n",
       "</table>\n",
       "<p>397 rows × 5 columns</p>\n",
       "</div>"
      ],
      "text/plain": [
       "                                                 title  bernoulli  log_reg  \\\n",
       "5        Курс доллара вырос до исторического максимума          0        0   \n",
       "6        ОПЕК назвала оптимальный уровень цен на нефть          0        0   \n",
       "7    Российская авиакомпания откроет рейсы в Тбилис...          0        0   \n",
       "9    Учреждена театральная премия имени Гарольда Пи...          0        0   \n",
       "10   Песков опроверг информацию о слиянии Минфина и...          0        0   \n",
       "..                                                 ...        ...      ...   \n",
       "987  Сафин выходит в третий круг после травмы сопер...          0        0   \n",
       "988  Центробанк отозвал лицензии у двух московских ...          0        0   \n",
       "989  Россия и Венесуэла договорились о сотрудничест...          0        0   \n",
       "991  Бывшему гендиректору Google подняли зарплату в...          0        0   \n",
       "993  Кубок УЕФА: испанцы забили немцам три пенальти...          0        0   \n",
       "\n",
       "     mnNB  common  \n",
       "5       0       0  \n",
       "6       0       0  \n",
       "7       0       0  \n",
       "9       0       0  \n",
       "10      0       0  \n",
       "..    ...     ...  \n",
       "987     0       0  \n",
       "988     0       0  \n",
       "989     0       0  \n",
       "991     0       0  \n",
       "993     0       0  \n",
       "\n",
       "[397 rows x 5 columns]"
      ]
     },
     "execution_count": 36,
     "metadata": {},
     "output_type": "execute_result"
    }
   ],
   "source": [
    "final[final.common == 0]"
   ]
  },
  {
   "cell_type": "markdown",
   "id": "bdc6da53",
   "metadata": {},
   "source": [
    "397 новостей все три модели определили как не фэйк"
   ]
  },
  {
   "cell_type": "markdown",
   "id": "60f12a63",
   "metadata": {},
   "source": [
    "То есть я уже с какой степенью уверенности могу сказать, что 859 новостей, скорее всего, определены правильно. То есть, на accuracy 85.9 могу рассчитывать"
   ]
  },
  {
   "cell_type": "code",
   "execution_count": 37,
   "id": "e431bd83",
   "metadata": {},
   "outputs": [
    {
     "data": {
      "text/html": [
       "<div>\n",
       "<style scoped>\n",
       "    .dataframe tbody tr th:only-of-type {\n",
       "        vertical-align: middle;\n",
       "    }\n",
       "\n",
       "    .dataframe tbody tr th {\n",
       "        vertical-align: top;\n",
       "    }\n",
       "\n",
       "    .dataframe thead th {\n",
       "        text-align: right;\n",
       "    }\n",
       "</style>\n",
       "<table border=\"1\" class=\"dataframe\">\n",
       "  <thead>\n",
       "    <tr style=\"text-align: right;\">\n",
       "      <th></th>\n",
       "      <th>title</th>\n",
       "      <th>bernoulli</th>\n",
       "      <th>log_reg</th>\n",
       "      <th>mnNB</th>\n",
       "      <th>common</th>\n",
       "    </tr>\n",
       "  </thead>\n",
       "  <tbody>\n",
       "    <tr>\n",
       "      <th>62</th>\n",
       "      <td>«Лучший коньяк в мире - дагестанский»: в Париж...</td>\n",
       "      <td>1</td>\n",
       "      <td>1</td>\n",
       "      <td>0</td>\n",
       "      <td>2</td>\n",
       "    </tr>\n",
       "    <tr>\n",
       "      <th>114</th>\n",
       "      <td>Ультраправые консерваторы потребовали уменьшит...</td>\n",
       "      <td>1</td>\n",
       "      <td>1</td>\n",
       "      <td>0</td>\n",
       "      <td>2</td>\n",
       "    </tr>\n",
       "    <tr>\n",
       "      <th>211</th>\n",
       "      <td>«Газпром» объявил тарифы на бесплатную газифик...</td>\n",
       "      <td>1</td>\n",
       "      <td>1</td>\n",
       "      <td>0</td>\n",
       "      <td>2</td>\n",
       "    </tr>\n",
       "    <tr>\n",
       "      <th>348</th>\n",
       "      <td>Северокорейская вона стала первой в новейшей и...</td>\n",
       "      <td>1</td>\n",
       "      <td>1</td>\n",
       "      <td>0</td>\n",
       "      <td>2</td>\n",
       "    </tr>\n",
       "    <tr>\n",
       "      <th>450</th>\n",
       "      <td>Россия из-за критики передумала отправлять Man...</td>\n",
       "      <td>1</td>\n",
       "      <td>1</td>\n",
       "      <td>0</td>\n",
       "      <td>2</td>\n",
       "    </tr>\n",
       "    <tr>\n",
       "      <th>493</th>\n",
       "      <td>Минпромторг разрешил российским производителям...</td>\n",
       "      <td>1</td>\n",
       "      <td>1</td>\n",
       "      <td>0</td>\n",
       "      <td>2</td>\n",
       "    </tr>\n",
       "    <tr>\n",
       "      <th>553</th>\n",
       "      <td>«Лягушатникам лучше не нарываться»: Мария Заха...</td>\n",
       "      <td>1</td>\n",
       "      <td>1</td>\n",
       "      <td>0</td>\n",
       "      <td>2</td>\n",
       "    </tr>\n",
       "    <tr>\n",
       "      <th>620</th>\n",
       "      <td>Китайский космический зонд «Тянвэнь-1» сфотогр...</td>\n",
       "      <td>1</td>\n",
       "      <td>1</td>\n",
       "      <td>0</td>\n",
       "      <td>2</td>\n",
       "    </tr>\n",
       "    <tr>\n",
       "      <th>704</th>\n",
       "      <td>«Газпром» бесплатно газифицирует дома выходцев...</td>\n",
       "      <td>1</td>\n",
       "      <td>1</td>\n",
       "      <td>0</td>\n",
       "      <td>2</td>\n",
       "    </tr>\n",
       "    <tr>\n",
       "      <th>746</th>\n",
       "      <td>Средняя зарплата китайских заключённых превыси...</td>\n",
       "      <td>1</td>\n",
       "      <td>1</td>\n",
       "      <td>0</td>\n",
       "      <td>2</td>\n",
       "    </tr>\n",
       "    <tr>\n",
       "      <th>886</th>\n",
       "      <td>«Газпром» бесплатно проведет газ в отдалённые ...</td>\n",
       "      <td>1</td>\n",
       "      <td>1</td>\n",
       "      <td>0</td>\n",
       "      <td>2</td>\n",
       "    </tr>\n",
       "    <tr>\n",
       "      <th>914</th>\n",
       "      <td>Из-за аварии на подстанции «Ольгино» рейтинг «...</td>\n",
       "      <td>1</td>\n",
       "      <td>1</td>\n",
       "      <td>0</td>\n",
       "      <td>2</td>\n",
       "    </tr>\n",
       "  </tbody>\n",
       "</table>\n",
       "</div>"
      ],
      "text/plain": [
       "                                                 title  bernoulli  log_reg  \\\n",
       "62   «Лучший коньяк в мире - дагестанский»: в Париж...          1        1   \n",
       "114  Ультраправые консерваторы потребовали уменьшит...          1        1   \n",
       "211  «Газпром» объявил тарифы на бесплатную газифик...          1        1   \n",
       "348  Северокорейская вона стала первой в новейшей и...          1        1   \n",
       "450  Россия из-за критики передумала отправлять Man...          1        1   \n",
       "493  Минпромторг разрешил российским производителям...          1        1   \n",
       "553  «Лягушатникам лучше не нарываться»: Мария Заха...          1        1   \n",
       "620  Китайский космический зонд «Тянвэнь-1» сфотогр...          1        1   \n",
       "704  «Газпром» бесплатно газифицирует дома выходцев...          1        1   \n",
       "746  Средняя зарплата китайских заключённых превыси...          1        1   \n",
       "886  «Газпром» бесплатно проведет газ в отдалённые ...          1        1   \n",
       "914  Из-за аварии на подстанции «Ольгино» рейтинг «...          1        1   \n",
       "\n",
       "     mnNB  common  \n",
       "62      0       2  \n",
       "114     0       2  \n",
       "211     0       2  \n",
       "348     0       2  \n",
       "450     0       2  \n",
       "493     0       2  \n",
       "553     0       2  \n",
       "620     0       2  \n",
       "704     0       2  \n",
       "746     0       2  \n",
       "886     0       2  \n",
       "914     0       2  "
      ]
     },
     "execution_count": 37,
     "metadata": {},
     "output_type": "execute_result"
    }
   ],
   "source": [
    "final[final.common == 2].query('bernoulli == 1 & log_reg == 1')"
   ]
  },
  {
   "cell_type": "markdown",
   "id": "fb9d364a",
   "metadata": {},
   "source": [
    "12 новостей две более сильные модели определили как фэйк"
   ]
  },
  {
   "cell_type": "code",
   "execution_count": 38,
   "id": "a5c0569c",
   "metadata": {},
   "outputs": [
    {
     "data": {
      "text/html": [
       "<div>\n",
       "<style scoped>\n",
       "    .dataframe tbody tr th:only-of-type {\n",
       "        vertical-align: middle;\n",
       "    }\n",
       "\n",
       "    .dataframe tbody tr th {\n",
       "        vertical-align: top;\n",
       "    }\n",
       "\n",
       "    .dataframe thead th {\n",
       "        text-align: right;\n",
       "    }\n",
       "</style>\n",
       "<table border=\"1\" class=\"dataframe\">\n",
       "  <thead>\n",
       "    <tr style=\"text-align: right;\">\n",
       "      <th></th>\n",
       "      <th>title</th>\n",
       "      <th>bernoulli</th>\n",
       "      <th>log_reg</th>\n",
       "      <th>mnNB</th>\n",
       "      <th>common</th>\n",
       "    </tr>\n",
       "  </thead>\n",
       "  <tbody>\n",
       "    <tr>\n",
       "      <th>53</th>\n",
       "      <td>«Росатом» построит АЭС в Афганистане</td>\n",
       "      <td>0</td>\n",
       "      <td>0</td>\n",
       "      <td>1</td>\n",
       "      <td>1</td>\n",
       "    </tr>\n",
       "    <tr>\n",
       "      <th>58</th>\n",
       "      <td>За неделю московские квартиры подорожали на пр...</td>\n",
       "      <td>0</td>\n",
       "      <td>0</td>\n",
       "      <td>1</td>\n",
       "      <td>1</td>\n",
       "    </tr>\n",
       "    <tr>\n",
       "      <th>69</th>\n",
       "      <td>В Петербурге открылся музей сосулек</td>\n",
       "      <td>0</td>\n",
       "      <td>0</td>\n",
       "      <td>1</td>\n",
       "      <td>1</td>\n",
       "    </tr>\n",
       "    <tr>\n",
       "      <th>218</th>\n",
       "      <td>Главу итальянского партнера «Сухого» арестовал...</td>\n",
       "      <td>0</td>\n",
       "      <td>0</td>\n",
       "      <td>1</td>\n",
       "      <td>1</td>\n",
       "    </tr>\n",
       "    <tr>\n",
       "      <th>255</th>\n",
       "      <td>В Москве похоронили Людмилу Гурченко</td>\n",
       "      <td>0</td>\n",
       "      <td>0</td>\n",
       "      <td>1</td>\n",
       "      <td>1</td>\n",
       "    </tr>\n",
       "    <tr>\n",
       "      <th>298</th>\n",
       "      <td>В длинный список Бунинской премии вошли 60 книг</td>\n",
       "      <td>0</td>\n",
       "      <td>0</td>\n",
       "      <td>1</td>\n",
       "      <td>1</td>\n",
       "    </tr>\n",
       "    <tr>\n",
       "      <th>301</th>\n",
       "      <td>Для концерта «Океана Ельзи» в Петербурге нашла...</td>\n",
       "      <td>0</td>\n",
       "      <td>0</td>\n",
       "      <td>1</td>\n",
       "      <td>1</td>\n",
       "    </tr>\n",
       "    <tr>\n",
       "      <th>317</th>\n",
       "      <td>Электронный Воннегут опередит бумажного</td>\n",
       "      <td>0</td>\n",
       "      <td>0</td>\n",
       "      <td>1</td>\n",
       "      <td>1</td>\n",
       "    </tr>\n",
       "    <tr>\n",
       "      <th>396</th>\n",
       "      <td>#РИФМЫ НЕДЕЛИ</td>\n",
       "      <td>0</td>\n",
       "      <td>0</td>\n",
       "      <td>1</td>\n",
       "      <td>1</td>\n",
       "    </tr>\n",
       "    <tr>\n",
       "      <th>466</th>\n",
       "      <td>Госдума ратифицировала договор о техпомощи ООН</td>\n",
       "      <td>0</td>\n",
       "      <td>0</td>\n",
       "      <td>1</td>\n",
       "      <td>1</td>\n",
       "    </tr>\n",
       "    <tr>\n",
       "      <th>514</th>\n",
       "      <td>США будут добиваться санкций против Центробанк...</td>\n",
       "      <td>0</td>\n",
       "      <td>0</td>\n",
       "      <td>1</td>\n",
       "      <td>1</td>\n",
       "    </tr>\n",
       "    <tr>\n",
       "      <th>515</th>\n",
       "      <td>В США разработали высокоточный метод 3D-печати...</td>\n",
       "      <td>0</td>\n",
       "      <td>0</td>\n",
       "      <td>1</td>\n",
       "      <td>1</td>\n",
       "    </tr>\n",
       "    <tr>\n",
       "      <th>550</th>\n",
       "      <td>Ученые обнаружили паука-вегетарианца</td>\n",
       "      <td>0</td>\n",
       "      <td>0</td>\n",
       "      <td>1</td>\n",
       "      <td>1</td>\n",
       "    </tr>\n",
       "    <tr>\n",
       "      <th>574</th>\n",
       "      <td>Найден неизвестный портрет кисти Веласкеса</td>\n",
       "      <td>0</td>\n",
       "      <td>0</td>\n",
       "      <td>1</td>\n",
       "      <td>1</td>\n",
       "    </tr>\n",
       "    <tr>\n",
       "      <th>600</th>\n",
       "      <td>Путин затруднился назвать размер зарплаты Сечина</td>\n",
       "      <td>0</td>\n",
       "      <td>0</td>\n",
       "      <td>1</td>\n",
       "      <td>1</td>\n",
       "    </tr>\n",
       "    <tr>\n",
       "      <th>647</th>\n",
       "      <td>Сбербанк объявил о покупке Саратовской области</td>\n",
       "      <td>0</td>\n",
       "      <td>0</td>\n",
       "      <td>1</td>\n",
       "      <td>1</td>\n",
       "    </tr>\n",
       "    <tr>\n",
       "      <th>690</th>\n",
       "      <td>Эксперты заявили о поджоге Троицкого собора</td>\n",
       "      <td>0</td>\n",
       "      <td>0</td>\n",
       "      <td>1</td>\n",
       "      <td>1</td>\n",
       "    </tr>\n",
       "    <tr>\n",
       "      <th>702</th>\n",
       "      <td>Фотонную нейронную сеть научили считать</td>\n",
       "      <td>0</td>\n",
       "      <td>0</td>\n",
       "      <td>1</td>\n",
       "      <td>1</td>\n",
       "    </tr>\n",
       "    <tr>\n",
       "      <th>711</th>\n",
       "      <td>Корейскую еду признали полезной для космонавтов</td>\n",
       "      <td>0</td>\n",
       "      <td>0</td>\n",
       "      <td>1</td>\n",
       "      <td>1</td>\n",
       "    </tr>\n",
       "    <tr>\n",
       "      <th>712</th>\n",
       "      <td>«Лестницу Иакова» переснимут</td>\n",
       "      <td>0</td>\n",
       "      <td>0</td>\n",
       "      <td>1</td>\n",
       "      <td>1</td>\n",
       "    </tr>\n",
       "    <tr>\n",
       "      <th>740</th>\n",
       "      <td>«Брянск-Север»: хакеры взломали пароль Пентагона</td>\n",
       "      <td>0</td>\n",
       "      <td>0</td>\n",
       "      <td>1</td>\n",
       "      <td>1</td>\n",
       "    </tr>\n",
       "    <tr>\n",
       "      <th>767</th>\n",
       "      <td>Высокая скорость столкновения галактик мешает ...</td>\n",
       "      <td>0</td>\n",
       "      <td>0</td>\n",
       "      <td>1</td>\n",
       "      <td>1</td>\n",
       "    </tr>\n",
       "    <tr>\n",
       "      <th>782</th>\n",
       "      <td>Россиян разрешили кормить мучными червями</td>\n",
       "      <td>0</td>\n",
       "      <td>0</td>\n",
       "      <td>1</td>\n",
       "      <td>1</td>\n",
       "    </tr>\n",
       "    <tr>\n",
       "      <th>787</th>\n",
       "      <td>Крейсер «Аврора» раскрасят во все цвета радуги</td>\n",
       "      <td>0</td>\n",
       "      <td>0</td>\n",
       "      <td>1</td>\n",
       "      <td>1</td>\n",
       "    </tr>\n",
       "    <tr>\n",
       "      <th>790</th>\n",
       "      <td>Россвязь разрешила использовать iPhone 4</td>\n",
       "      <td>0</td>\n",
       "      <td>0</td>\n",
       "      <td>1</td>\n",
       "      <td>1</td>\n",
       "    </tr>\n",
       "    <tr>\n",
       "      <th>808</th>\n",
       "      <td>Путин вручил госнаграду создателю сериала «Ули...</td>\n",
       "      <td>0</td>\n",
       "      <td>0</td>\n",
       "      <td>1</td>\n",
       "      <td>1</td>\n",
       "    </tr>\n",
       "    <tr>\n",
       "      <th>861</th>\n",
       "      <td>Московским автовладельцам придется раскошелиться</td>\n",
       "      <td>0</td>\n",
       "      <td>0</td>\n",
       "      <td>1</td>\n",
       "      <td>1</td>\n",
       "    </tr>\n",
       "    <tr>\n",
       "      <th>923</th>\n",
       "      <td>Деятели культуры заступились за дом Волконских</td>\n",
       "      <td>0</td>\n",
       "      <td>0</td>\n",
       "      <td>1</td>\n",
       "      <td>1</td>\n",
       "    </tr>\n",
       "    <tr>\n",
       "      <th>964</th>\n",
       "      <td>В Москве покажут Уорхола для коллекционеров</td>\n",
       "      <td>0</td>\n",
       "      <td>0</td>\n",
       "      <td>1</td>\n",
       "      <td>1</td>\n",
       "    </tr>\n",
       "  </tbody>\n",
       "</table>\n",
       "</div>"
      ],
      "text/plain": [
       "                                                 title  bernoulli  log_reg  \\\n",
       "53                «Росатом» построит АЭС в Афганистане          0        0   \n",
       "58   За неделю московские квартиры подорожали на пр...          0        0   \n",
       "69                 В Петербурге открылся музей сосулек          0        0   \n",
       "218  Главу итальянского партнера «Сухого» арестовал...          0        0   \n",
       "255               В Москве похоронили Людмилу Гурченко          0        0   \n",
       "298    В длинный список Бунинской премии вошли 60 книг          0        0   \n",
       "301  Для концерта «Океана Ельзи» в Петербурге нашла...          0        0   \n",
       "317            Электронный Воннегут опередит бумажного          0        0   \n",
       "396                                      #РИФМЫ НЕДЕЛИ          0        0   \n",
       "466     Госдума ратифицировала договор о техпомощи ООН          0        0   \n",
       "514  США будут добиваться санкций против Центробанк...          0        0   \n",
       "515  В США разработали высокоточный метод 3D-печати...          0        0   \n",
       "550               Ученые обнаружили паука-вегетарианца          0        0   \n",
       "574         Найден неизвестный портрет кисти Веласкеса          0        0   \n",
       "600   Путин затруднился назвать размер зарплаты Сечина          0        0   \n",
       "647     Сбербанк объявил о покупке Саратовской области          0        0   \n",
       "690        Эксперты заявили о поджоге Троицкого собора          0        0   \n",
       "702            Фотонную нейронную сеть научили считать          0        0   \n",
       "711    Корейскую еду признали полезной для космонавтов          0        0   \n",
       "712                       «Лестницу Иакова» переснимут          0        0   \n",
       "740   «Брянск-Север»: хакеры взломали пароль Пентагона          0        0   \n",
       "767  Высокая скорость столкновения галактик мешает ...          0        0   \n",
       "782          Россиян разрешили кормить мучными червями          0        0   \n",
       "787     Крейсер «Аврора» раскрасят во все цвета радуги          0        0   \n",
       "790           Россвязь разрешила использовать iPhone 4          0        0   \n",
       "808  Путин вручил госнаграду создателю сериала «Ули...          0        0   \n",
       "861   Московским автовладельцам придется раскошелиться          0        0   \n",
       "923     Деятели культуры заступились за дом Волконских          0        0   \n",
       "964        В Москве покажут Уорхола для коллекционеров          0        0   \n",
       "\n",
       "     mnNB  common  \n",
       "53      1       1  \n",
       "58      1       1  \n",
       "69      1       1  \n",
       "218     1       1  \n",
       "255     1       1  \n",
       "298     1       1  \n",
       "301     1       1  \n",
       "317     1       1  \n",
       "396     1       1  \n",
       "466     1       1  \n",
       "514     1       1  \n",
       "515     1       1  \n",
       "550     1       1  \n",
       "574     1       1  \n",
       "600     1       1  \n",
       "647     1       1  \n",
       "690     1       1  \n",
       "702     1       1  \n",
       "711     1       1  \n",
       "712     1       1  \n",
       "740     1       1  \n",
       "767     1       1  \n",
       "782     1       1  \n",
       "787     1       1  \n",
       "790     1       1  \n",
       "808     1       1  \n",
       "861     1       1  \n",
       "923     1       1  \n",
       "964     1       1  "
      ]
     },
     "execution_count": 38,
     "metadata": {},
     "output_type": "execute_result"
    }
   ],
   "source": [
    "final[final.common == 1].query('bernoulli == 0 & log_reg == 0')"
   ]
  },
  {
   "cell_type": "markdown",
   "id": "55c6438f",
   "metadata": {},
   "source": [
    "29 новостей две более сильные модели определили как не фэйк"
   ]
  },
  {
   "cell_type": "markdown",
   "id": "1f433484",
   "metadata": {},
   "source": [
    "То есть, с очень большой долей вероятности 900 новостей определены верно двумя более сильными моделями"
   ]
  },
  {
   "cell_type": "markdown",
   "id": "976083f5",
   "metadata": {},
   "source": [
    "Учитывая, что Бернулли сама по себе и подтвержденная другими моделями имеет высокий скор(я понимаю, что это accuracy), я выберу ее. Риски меньше. Но. Я мог бы продолжить логику того, чтобы с каким-то допущением совместить предикты всех трех моделей."
   ]
  },
  {
   "cell_type": "markdown",
   "id": "4330238a",
   "metadata": {},
   "source": [
    "Но тут в дело вступила новость под номером 17"
   ]
  },
  {
   "cell_type": "code",
   "execution_count": 39,
   "id": "24089b63",
   "metadata": {},
   "outputs": [
    {
     "data": {
      "text/html": [
       "<div>\n",
       "<style scoped>\n",
       "    .dataframe tbody tr th:only-of-type {\n",
       "        vertical-align: middle;\n",
       "    }\n",
       "\n",
       "    .dataframe tbody tr th {\n",
       "        vertical-align: top;\n",
       "    }\n",
       "\n",
       "    .dataframe thead th {\n",
       "        text-align: right;\n",
       "    }\n",
       "</style>\n",
       "<table border=\"1\" class=\"dataframe\">\n",
       "  <thead>\n",
       "    <tr style=\"text-align: right;\">\n",
       "      <th></th>\n",
       "      <th>title</th>\n",
       "      <th>bernoulli</th>\n",
       "      <th>log_reg</th>\n",
       "      <th>mnNB</th>\n",
       "      <th>common</th>\n",
       "    </tr>\n",
       "  </thead>\n",
       "  <tbody>\n",
       "    <tr>\n",
       "      <th>17</th>\n",
       "      <td>Биткоин затмил Ким Кардашьян</td>\n",
       "      <td>0</td>\n",
       "      <td>1</td>\n",
       "      <td>1</td>\n",
       "      <td>2</td>\n",
       "    </tr>\n",
       "  </tbody>\n",
       "</table>\n",
       "</div>"
      ],
      "text/plain": [
       "                           title  bernoulli  log_reg  mnNB  common\n",
       "17  Биткоин затмил Ким Кардашьян          0        1     1       2"
      ]
     },
     "execution_count": 39,
     "metadata": {},
     "output_type": "execute_result"
    }
   ],
   "source": [
    "final.iloc[[17]]"
   ]
  },
  {
   "cell_type": "markdown",
   "id": "d7f949d4",
   "metadata": {},
   "source": [
    "А судя по всему это не фейк, и только бернулли это показал. Конечно, это может быть случайность, но пока все говорит за бернулли)))"
   ]
  },
  {
   "cell_type": "markdown",
   "id": "2357e7e3",
   "metadata": {},
   "source": [
    "Поэтому:"
   ]
  },
  {
   "cell_type": "code",
   "execution_count": 40,
   "id": "4f259430",
   "metadata": {},
   "outputs": [],
   "source": [
    "predictions = final.loc[:, ['title', 'bernoulli']].rename(columns={'bernoulli': 'is_fake'})"
   ]
  },
  {
   "cell_type": "markdown",
   "id": "8f4c2fc5",
   "metadata": {},
   "source": [
    "Посмотрим на распределение ответов"
   ]
  },
  {
   "cell_type": "code",
   "execution_count": 41,
   "id": "12b9fa9c",
   "metadata": {},
   "outputs": [
    {
     "data": {
      "text/html": [
       "<div>\n",
       "<style scoped>\n",
       "    .dataframe tbody tr th:only-of-type {\n",
       "        vertical-align: middle;\n",
       "    }\n",
       "\n",
       "    .dataframe tbody tr th {\n",
       "        vertical-align: top;\n",
       "    }\n",
       "\n",
       "    .dataframe thead th {\n",
       "        text-align: right;\n",
       "    }\n",
       "</style>\n",
       "<table border=\"1\" class=\"dataframe\">\n",
       "  <thead>\n",
       "    <tr style=\"text-align: right;\">\n",
       "      <th></th>\n",
       "      <th>title</th>\n",
       "    </tr>\n",
       "    <tr>\n",
       "      <th>is_fake</th>\n",
       "      <th></th>\n",
       "    </tr>\n",
       "  </thead>\n",
       "  <tbody>\n",
       "    <tr>\n",
       "      <th>0</th>\n",
       "      <td>496</td>\n",
       "    </tr>\n",
       "    <tr>\n",
       "      <th>1</th>\n",
       "      <td>504</td>\n",
       "    </tr>\n",
       "  </tbody>\n",
       "</table>\n",
       "</div>"
      ],
      "text/plain": [
       "         title\n",
       "is_fake       \n",
       "0          496\n",
       "1          504"
      ]
     },
     "execution_count": 41,
     "metadata": {},
     "output_type": "execute_result"
    }
   ],
   "source": [
    "predictions.groupby('is_fake').count()"
   ]
  },
  {
   "cell_type": "code",
   "execution_count": 42,
   "id": "3653fc38",
   "metadata": {},
   "outputs": [],
   "source": [
    "predictions.to_csv('predictions.tsv', sep='\\t', index=False)"
   ]
  }
 ],
 "metadata": {
  "kernelspec": {
   "display_name": "Python 3 (ipykernel)",
   "language": "python",
   "name": "python3"
  },
  "language_info": {
   "codemirror_mode": {
    "name": "ipython",
    "version": 3
   },
   "file_extension": ".py",
   "mimetype": "text/x-python",
   "name": "python",
   "nbconvert_exporter": "python",
   "pygments_lexer": "ipython3",
   "version": "3.9.7"
  }
 },
 "nbformat": 4,
 "nbformat_minor": 5
}
